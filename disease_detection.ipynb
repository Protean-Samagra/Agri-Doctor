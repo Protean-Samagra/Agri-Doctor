{
 "cells": [
  {
   "cell_type": "code",
   "execution_count": 2,
   "id": "43c6aa65-51be-49ee-a72b-4654f88e5a6f",
   "metadata": {},
   "outputs": [
    {
     "name": "stdout",
     "output_type": "stream",
     "text": [
      "Downloading data from https://storage.googleapis.com/tensorflow/keras-applications/resnet/resnet50_weights_tf_dim_ordering_tf_kernels_notop.h5\n",
      "\u001b[1m94765736/94765736\u001b[0m \u001b[32m━━━━━━━━━━━━━━━━━━━━\u001b[0m\u001b[37m\u001b[0m \u001b[1m23s\u001b[0m 0us/step\n"
     ]
    }
   ],
   "source": [
    "import tensorflow as tf\n",
    "from tensorflow.keras.applications import ResNet50\n",
    "from tensorflow.keras.preprocessing.image import ImageDataGenerator\n",
    "from tensorflow.keras.models import Model\n",
    "from tensorflow.keras.layers import Dense, GlobalAveragePooling2D\n",
    "from tensorflow.keras.optimizers import Adam\n",
    "\n",
    "# Pre-trained ResNet50 model without top layer\n",
    "base_model = ResNet50(weights='imagenet', include_top=False, input_shape=(224, 224, 3))\n",
    "\n",
    "# Custom top layers\n",
    "x = base_model.output\n",
    "x = GlobalAveragePooling2D()(x)\n",
    "x = Dense(1024, activation='relu')(x)\n",
    "predictions = Dense(5, activation='softmax')(x)  # Adjust the number of classes\n",
    "\n",
    "# Create the full model\n",
    "model = Model(inputs=base_model.input, outputs=predictions)\n",
    "\n",
    "# Compile the model\n",
    "model.compile(optimizer=Adam(learning_rate=0.0001), loss='categorical_crossentropy', metrics=['accuracy'])\n",
    "\n",
    "# train_data_dir = 'C:/Users/ITBS/desktop/disease_dataset/train'\n",
    "# test_data_dir = 'C:/Users/ITBS/desktop/disease_dataset/test'\n"
   ]
  },
  {
   "cell_type": "code",
   "execution_count": 9,
   "id": "ffd6abba-d8d5-4bfc-acbe-c237ef74f277",
   "metadata": {},
   "outputs": [
    {
     "name": "stdout",
     "output_type": "stream",
     "text": [
      "Found 14558 images belonging to 20 classes.\n",
      "Found 2637 images belonging to 20 classes.\n"
     ]
    }
   ],
   "source": [
    "import tensorflow as tf\n",
    "from tensorflow.keras.preprocessing.image import ImageDataGenerator\n",
    "\n",
    "# Define image size and batch size\n",
    "img_size = (224, 224)\n",
    "batch_size = 32\n",
    "\n",
    "# Data augmentation and normalization for training\n",
    "train_datagen = ImageDataGenerator(\n",
    "    rescale=1./255,\n",
    "    shear_range=0.2,\n",
    "    zoom_range=0.2,\n",
    "    horizontal_flip=True\n",
    ")\n",
    "\n",
    "# Normalization for validation/testing\n",
    "test_datagen = ImageDataGenerator(rescale=1./255)\n",
    "\n",
    "# Training data generator\n",
    "train_generator = train_datagen.flow_from_directory(\n",
    "    'C:/Users/ITBS/desktop/disease_dataset/train',  # Replace with your actual path\n",
    "    target_size=img_size,\n",
    "    batch_size=batch_size,\n",
    "    class_mode='categorical'\n",
    ")\n",
    "\n",
    "# Testing data generator\n",
    "test_generator = test_datagen.flow_from_directory(\n",
    "    'C:/Users/ITBS/desktop/disease_dataset/test',  # Replace with your actual path\n",
    "    target_size=img_size,\n",
    "    batch_size=batch_size,\n",
    "    class_mode='categorical'\n",
    ")\n"
   ]
  },
  {
   "cell_type": "code",
   "execution_count": 11,
   "id": "a2f9d49c-b544-4ff2-8c39-9a3030f2ee98",
   "metadata": {},
   "outputs": [],
   "source": [
    "from tensorflow.keras.applications import ResNet50\n",
    "from tensorflow.keras.models import Model\n",
    "from tensorflow.keras.layers import Dense, GlobalAveragePooling2D\n",
    "\n",
    "# Load pre-trained ResNet50 model without the top layer\n",
    "base_model = ResNet50(weights='imagenet', include_top=False, input_shape=(224, 224, 3))\n",
    "\n",
    "# Add custom top layers\n",
    "x = base_model.output\n",
    "x = GlobalAveragePooling2D()(x)\n",
    "x = Dense(1024, activation='relu')(x)\n",
    "predictions = Dense(20, activation='softmax')(x)  # Adjust for 20 classes\n",
    "\n",
    "# Create the model\n",
    "model = Model(inputs=base_model.input, outputs=predictions)\n"
   ]
  },
  {
   "cell_type": "code",
   "execution_count": 12,
   "id": "e441522a-6acf-41c2-b6f0-b52c8f22cead",
   "metadata": {},
   "outputs": [],
   "source": [
    "from tensorflow.keras.optimizers import Adam\n",
    "\n",
    "# Compile the model\n",
    "model.compile(\n",
    "    optimizer=Adam(learning_rate=0.0001),\n",
    "    loss='categorical_crossentropy',\n",
    "    metrics=['accuracy']\n",
    ")\n"
   ]
  },
  {
   "cell_type": "code",
   "execution_count": null,
   "id": "95ecccb1-c2d4-443d-a83d-640905ac41e7",
   "metadata": {},
   "outputs": [],
   "source": [
    "# Train the model\n",
    "history = model.fit(\n",
    "    train_generator,\n",
    "    steps_per_epoch=train_generator.samples // batch_size,\n",
    "    epochs=10,\n",
    "    validation_data=test_generator,\n",
    "    validation_steps=test_generator.samples // batch_size\n",
    ")\n"
   ]
  },
  {
   "cell_type": "code",
   "execution_count": 15,
   "id": "e0d5ef44-a43b-4020-9bba-550130e1d608",
   "metadata": {},
   "outputs": [],
   "source": [
    "# Save the trained model\n",
    "model.save('C:/Users/ITBS/desktop/disease_detection.keras')  # Replace with your desired save path"
   ]
  },
  {
   "cell_type": "code",
   "execution_count": 3,
   "id": "b96242f6-566d-479b-8bad-283c4fe29d48",
   "metadata": {},
   "outputs": [
    {
     "name": "stderr",
     "output_type": "stream",
     "text": [
      "C:\\Users\\ITBS\\AppData\\Roaming\\Python\\Python312\\site-packages\\keras\\src\\saving\\saving_lib.py:576: UserWarning: Skipping variable loading for optimizer 'rmsprop', because it has 218 variables whereas the saved optimizer has 434 variables. \n",
      "  saveable.load_own_variables(weights_store.get(inner_path))\n"
     ]
    },
    {
     "name": "stdout",
     "output_type": "stream",
     "text": [
      "\u001b[1m1/1\u001b[0m \u001b[32m━━━━━━━━━━━━━━━━━━━━\u001b[0m\u001b[37m\u001b[0m \u001b[1m3s\u001b[0m 3s/step\n",
      "Predicted disease: Rice_LeafBlast\n"
     ]
    }
   ],
   "source": [
    "import numpy as np\n",
    "from PIL import Image\n",
    "import tensorflow as tf\n",
    "\n",
    "# Load the trained disease detection model\n",
    "disease_detection_model = tf.keras.models.load_model(r'C:/Users/ITBS/Desktop/disease_detection.keras')\n",
    "\n",
    "def run_model(img_path):\n",
    "    def preprocess_image(image_path, target_size):\n",
    "        img = Image.open(image_path).resize(target_size)  # Resize to match model's input shape\n",
    "        img_array = np.array(img).astype('float32') / 255.0  # Normalize to [0, 1] range\n",
    "        img_array = np.expand_dims(img_array, axis=0)  # Add batch dimension\n",
    "        return img_array\n",
    "\n",
    "    # Define target size for the disease detection model\n",
    "    disease_detection_target_size = (224, 224)  # Resize to match model's input shape\n",
    "\n",
    "    # Preprocess the input image for disease detection\n",
    "    img_array_for_disease = preprocess_image(img_path, disease_detection_target_size)\n",
    "\n",
    "    # Predict the disease type\n",
    "    try:\n",
    "        disease_predictions = disease_detection_model.predict(img_array_for_disease)\n",
    "        disease_class_index = np.argmax(disease_predictions, axis=1)[0]\n",
    "\n",
    "        # List of disease class names (replace with actual disease names)\n",
    "        disease_class_names = ['Corn_blight', 'Corn_common_rust', 'Corn_gray_leaf_spot', 'Corn_healthy', \n",
    "                            'Potato_Early_Blight', 'Potato_Healthy', 'Potato_Late_Blight', \n",
    "                            'Rice_BrownSpot', 'Rice_Healthy', 'Rice_Hispa', 'Rice_LeafBlast', \n",
    "                            'Tomato_bacterial_spot', 'Tomato_early_blight', 'Tomato_healthy', \n",
    "                            'Tomato_late_blight', 'Tomato_leaf_miner', 'Tomato_spotted_wilt_virus', \n",
    "                            'Wheat_Brown_Rust', 'Wheat_Healthy', 'Wheat_Yellow_Rust']\n",
    "        predicted_disease = disease_class_names[disease_class_index]\n",
    "\n",
    "        print(f'Predicted disease: {predicted_disease}')\n",
    "    except Exception as e:\n",
    "        print(f'Error during disease prediction: {e}')\n",
    "\n",
    "run_model(img_path = r'C:/Users/ITBS/Desktop/rlb.jpg')"
   ]
  }
 ],
 "metadata": {
  "kernelspec": {
   "display_name": "Python 3 (ipykernel)",
   "language": "python",
   "name": "python3"
  },
  "language_info": {
   "codemirror_mode": {
    "name": "ipython",
    "version": 3
   },
   "file_extension": ".py",
   "mimetype": "text/x-python",
   "name": "python",
   "nbconvert_exporter": "python",
   "pygments_lexer": "ipython3",
   "version": "3.12.3"
  }
 },
 "nbformat": 4,
 "nbformat_minor": 5
}
